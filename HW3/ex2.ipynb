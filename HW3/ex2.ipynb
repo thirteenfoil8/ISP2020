{
 "cells": [
  {
   "cell_type": "code",
   "execution_count": 1,
   "metadata": {},
   "outputs": [],
   "source": [
    "import hashlib\n",
    "import math"
   ]
  },
  {
   "cell_type": "code",
   "execution_count": 3,
   "metadata": {},
   "outputs": [],
   "source": [
    "def success_rate(m,t,N):\n",
    "    \"\"\" m = number of rows, t = number of column, N = passwords space\"\"\"\n",
    "    prod = 1\n",
    "    for i in range(1,t+1):\n",
    "        m_i = m if i ==1 else N*(1-math.exp(-m_i/N))\n",
    "        prod *= (1-m_i/N)\n",
    "    return str((1-prod)*100)+'%'"
   ]
  },
  {
   "cell_type": "code",
   "execution_count": 4,
   "metadata": {},
   "outputs": [
    {
     "data": {
      "text/plain": [
       "'0.3535312048015604%'"
      ]
     },
     "execution_count": 4,
     "metadata": {},
     "output_type": "execute_result"
    }
   ],
   "source": [
    "success_rate(10000000,1000,36**8)"
   ]
  },
  {
   "cell_type": "code",
   "execution_count": 25,
   "metadata": {},
   "outputs": [
    {
     "data": {
      "text/plain": [
       "2.0"
      ]
     },
     "execution_count": 25,
     "metadata": {},
     "output_type": "execute_result"
    }
   ],
   "source": [
    "\n"
   ]
  },
  {
   "cell_type": "markdown",
   "metadata": {},
   "source": [
    "### Additional \"theoretical\" questions\n",
    "Now that you are an expert on Rainbow Tables, here are some additional questions. Try answering them.\n",
    "\n",
    "1. How do you compute the success rate of your table?\n",
    "    With the function above\n",
    "2. What are the advantages of making the table \"fatter\" (more columns)? And \"taller\" (more rows)?\n",
    "    By increasing the size of the table, we increase the chance of finding the passwords. But, for rows we increase the \n",
    "    number of names to use and for the columns, we increase the number of reduction functions.\n",
    "3. How does height and width relate the the size (on disk) of the table, and the lookup time?\n",
    "    It will increase both\n",
    "4. The state-of-the-art cracking uses multiple tables. What is the point?\n",
    "    By using multiple tables, we can reach a probability higher that 86% which is the max for only 1 table\n",
    "5. What would be the (estimated) size of a table to have a >95% success rate on this passwords space?\n",
    "    2*10^13\n",
    "6. Can you parallelize the processes of creating the table and hacking? yes\n",
    "7. How would you modify the reduction functions to match exactly the Zürich Insurance requirements? How would that affect your success rate? "
   ]
  },
  {
   "cell_type": "code",
   "execution_count": null,
   "metadata": {},
   "outputs": [],
   "source": []
  }
 ],
 "metadata": {
  "kernelspec": {
   "display_name": "Python 3",
   "language": "python",
   "name": "python3"
  },
  "language_info": {
   "codemirror_mode": {
    "name": "ipython",
    "version": 3
   },
   "file_extension": ".py",
   "mimetype": "text/x-python",
   "name": "python",
   "nbconvert_exporter": "python",
   "pygments_lexer": "ipython3",
   "version": "3.7.9"
  }
 },
 "nbformat": 4,
 "nbformat_minor": 4
}
