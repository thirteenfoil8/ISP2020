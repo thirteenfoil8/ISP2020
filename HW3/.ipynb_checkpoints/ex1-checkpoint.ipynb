{
 "cells": [
  {
   "cell_type": "code",
   "execution_count": 20,
   "metadata": {},
   "outputs": [],
   "source": [
    "import os\n",
    "import binascii\n",
    "\n",
    "import numpy as np\n",
    "import pandas as pd\n",
    "import itertools as it\n",
    "\n",
    "from hashlib import sha256\n",
    "\n",
    "from tqdm import tqdm_notebook as tqdm"
   ]
  },
  {
   "cell_type": "code",
   "execution_count": 10,
   "metadata": {},
   "outputs": [],
   "source": [
    "H = lambda x: sha256(x.encode('utf-8') if type(x) is str else x).hexdigest()  # Function that encode message in sha256"
   ]
  },
  {
   "cell_type": "code",
   "execution_count": 41,
   "metadata": {},
   "outputs": [],
   "source": [
    "sha1 = \"\"\"7c58133ee543d78a9fce240ba7a273f37511bfe6835c04e3edf66f308e9bc6e5\n",
    "37a2b469df9fc4d31f35f26ddc1168fe03f2361e329d92f4f2ef04af09741fb9\n",
    "19dbaf86488ec08ba7a824b33571ce427e318d14fc84d3d764bd21ecb29c34ca\n",
    "06240d77c297bb8bd727d5538a9121039911467c8bb871a935c84a5cfe8291e4\n",
    "f5cd3218d18978d6e5ef95dd8c2088b7cde533c217cfef4850dd4b6fa0deef72\n",
    "dd9ad1f17965325e4e5de2656152e8a5fce92b1c175947b485833cde0c824d64\n",
    "845e7c74bc1b5532fe05a1e682b9781e273498af73f401a099d324fa99121c99\n",
    "a6fb7de5b5e11b29bc232c5b5cd3044ca4b70f2cf421dc02b5798a7f68fc0523\n",
    "1035f3e1491315d6eaf53f7e9fecf3b81e00139df2720ae361868c609815039c\n",
    "10dccbaff60f7c6c0217692ad978b52bf036caf81bfcd90bfc9c0552181da85a\"\"\".split('\\n')\n",
    "chars = [chr(ord('a') + i) for i in range(26)] + [str(i) for i in range(10)] # all possible caracters\n",
    "passwords_1 = iter(''.join(c) for n in range(4, 7) for c in it.product(chars, repeat=n)) # create all possible password of size 4-7\n",
    "found = dict()"
   ]
  },
  {
   "cell_type": "code",
   "execution_count": 8,
   "metadata": {},
   "outputs": [],
   "source": [
    "def process(p):\n",
    "    if len(sha1) > len(found): # do until find all password\n",
    "        h = H(p) # encode password in sha256\n",
    "        if h in sha1: # if its the good one --> store it \n",
    "            found[h] = p\n",
    "            print(h, p)\n",
    "    return len(sha1) == len(found) # return True if all password are found"
   ]
  },
  {
   "cell_type": "code",
   "execution_count": 11,
   "metadata": {},
   "outputs": [
    {
     "name": "stderr",
     "output_type": "stream",
     "text": [
      "D:\\anaconda\\lib\\site-packages\\ipykernel_launcher.py:1: TqdmDeprecationWarning: This function will be removed in tqdm==5.0.0\n",
      "Please use `tqdm.notebook.tqdm` instead of `tqdm.tqdm_notebook`\n",
      "  \"\"\"Entry point for launching an IPython kernel.\n"
     ]
    },
    {
     "data": {
      "application/vnd.jupyter.widget-view+json": {
       "model_id": "e9375e0d3224426495ee85962a27b3b5",
       "version_major": 2,
       "version_minor": 0
      },
      "text/plain": [
       "HBox(children=(FloatProgress(value=1.0, bar_style='info', layout=Layout(width='20px'), max=1.0), HTML(value=''…"
      ]
     },
     "metadata": {},
     "output_type": "display_data"
    },
    {
     "name": "stdout",
     "output_type": "stream",
     "text": [
      "845e7c74bc1b5532fe05a1e682b9781e273498af73f401a099d324fa99121c99 j67c\n",
      "a6fb7de5b5e11b29bc232c5b5cd3044ca4b70f2cf421dc02b5798a7f68fc0523 bgfvf\n",
      "dd9ad1f17965325e4e5de2656152e8a5fce92b1c175947b485833cde0c824d64 gi02n\n",
      "19dbaf86488ec08ba7a824b33571ce427e318d14fc84d3d764bd21ecb29c34ca szpn9\n",
      "1035f3e1491315d6eaf53f7e9fecf3b81e00139df2720ae361868c609815039c 2vdxm\n",
      "06240d77c297bb8bd727d5538a9121039911467c8bb871a935c84a5cfe8291e4 feh9ay\n",
      "\n"
     ]
    },
    {
     "ename": "KeyboardInterrupt",
     "evalue": "",
     "output_type": "error",
     "traceback": [
      "\u001b[1;31m---------------------------------------------------------------------------\u001b[0m",
      "\u001b[1;31mKeyboardInterrupt\u001b[0m                         Traceback (most recent call last)",
      "\u001b[1;32m<ipython-input-11-4a8722567b03>\u001b[0m in \u001b[0;36m<module>\u001b[1;34m\u001b[0m\n\u001b[0;32m      1\u001b[0m \u001b[1;32mfor\u001b[0m \u001b[0mp\u001b[0m \u001b[1;32min\u001b[0m \u001b[0mtqdm\u001b[0m\u001b[1;33m(\u001b[0m\u001b[0mpasswords_1\u001b[0m\u001b[1;33m)\u001b[0m\u001b[1;33m:\u001b[0m\u001b[1;33m\u001b[0m\u001b[1;33m\u001b[0m\u001b[0m\n\u001b[1;32m----> 2\u001b[1;33m     \u001b[1;32mif\u001b[0m \u001b[0mprocess\u001b[0m\u001b[1;33m(\u001b[0m\u001b[0mp\u001b[0m\u001b[1;33m)\u001b[0m\u001b[1;33m:\u001b[0m\u001b[1;33m\u001b[0m\u001b[1;33m\u001b[0m\u001b[0m\n\u001b[0m\u001b[0;32m      3\u001b[0m         \u001b[1;32mbreak\u001b[0m\u001b[1;33m\u001b[0m\u001b[1;33m\u001b[0m\u001b[0m\n",
      "\u001b[1;31mKeyboardInterrupt\u001b[0m: "
     ]
    }
   ],
   "source": [
    "for p in tqdm(passwords_1):\n",
    "    if process(p):\n",
    "        break"
   ]
  },
  {
   "cell_type": "markdown",
   "metadata": {},
   "source": [
    "# Part 2"
   ]
  },
  {
   "cell_type": "code",
   "execution_count": 57,
   "metadata": {},
   "outputs": [],
   "source": [
    "sha2 = \"\"\"2e41f7133fd134335f566736c03cc02621a03a4d21954c3bec6a1f2807e87b8a\n",
    "7987d2f5f930524a31e0716314c2710c89ae849b4e51a563be67c82344bcc8da\n",
    "076f8c265a856303ac6ae57539140e88a3cbce2a2197b872ba6894132ccf92fb\n",
    "b1ea522fd21e8fe242136488428b8604b83acea430d6fcd36159973f48b1102e\n",
    "3992b888e772681224099302a5eeb6f8cf27530f7510f0cce1f26e79fdf8ea21\n",
    "326e90c0d2e7073d578976d120a4071f83ce6b7bc89c16ecb215d99b3d51a29b\n",
    "269398301262810bdf542150a2c1b81ffe0e1282856058a0e26bda91512cfdc4\n",
    "4fbee71939b9a46db36a3b0feb3d04668692fa020d30909c12b6e00c2d902c31\n",
    "55c5a78379afce32da9d633ffe6a7a58fa06f9bbe66ba82af61838be400d624e\n",
    "5106610b8ac6bc9da787a89bf577e888bce9c07e09e6caaf780d2288c3ec1f0c\"\"\".split('\\n')\n",
    "found2 = dict()"
   ]
  },
  {
   "cell_type": "code",
   "execution_count": 58,
   "metadata": {},
   "outputs": [],
   "source": [
    "filenames = ['cain.txt', 'john.txt', '500-worst-passwords.txt', 'conficker.txt', 'twitter-banned.txt','rockyou.txt']"
   ]
  },
  {
   "cell_type": "code",
   "execution_count": 59,
   "metadata": {},
   "outputs": [],
   "source": [
    "passwords_2 = []\n",
    "for fname in filenames:\n",
    "    with open('passwords/'+fname, 'r',encoding='cp850') as f:\n",
    "        for line in f:\n",
    "            line = line.replace('\\n', '')\n",
    "            line = line.strip()\n",
    "            line = line.lower()\n",
    "            if type(line) is str and \\\n",
    "                len(set(line) - set(chars)) == 0 and\\\n",
    "                len(line) > 0:\n",
    "                passwords_2.append(line)"
   ]
  },
  {
   "cell_type": "code",
   "execution_count": 60,
   "metadata": {},
   "outputs": [
    {
     "data": {
      "text/plain": [
       "13084637"
      ]
     },
     "execution_count": 60,
     "metadata": {},
     "output_type": "execute_result"
    }
   ],
   "source": [
    "passwords_2 = set(passwords_2)\n",
    "len(passwords_2)"
   ]
  },
  {
   "cell_type": "code",
   "execution_count": 61,
   "metadata": {},
   "outputs": [],
   "source": [
    "def transform(p, title=False, e_to_3=False, o_to_0=False, i_to_1=False):\n",
    "    if title:\n",
    "        p = p.title()\n",
    "    if e_to_3:\n",
    "        p = p.replace('e', '3')\n",
    "        p = p.replace('E', '3')\n",
    "    if o_to_0:\n",
    "        p = p.replace('o', '0')\n",
    "        p = p.replace('O', '0')\n",
    "    if i_to_1:\n",
    "        p = p.replace('i', '1')\n",
    "        p = p.replace('I', '1')\n",
    "    return p"
   ]
  },
  {
   "cell_type": "code",
   "execution_count": 62,
   "metadata": {},
   "outputs": [],
   "source": [
    "def all_ts(p):\n",
    "    ts = []\n",
    "    e_in = 'e' in p or 'E' in p\n",
    "    o_in = 'o' in p or 'O' in p\n",
    "    i_in = 'i' in p or 'I' in p\n",
    "    for t in it.product([True, False], repeat=1 + e_in + o_in + i_in):\n",
    "        bools = [t[0], t[1] if e_in else False, t[1 + e_in] if o_in else False, t[1 + e_in + o_in] if i_in else False]\n",
    "        ts.append(bools)\n",
    "    return ts"
   ]
  },
  {
   "cell_type": "code",
   "execution_count": 63,
   "metadata": {},
   "outputs": [
    {
     "name": "stderr",
     "output_type": "stream",
     "text": [
      "D:\\anaconda\\lib\\site-packages\\ipykernel_launcher.py:1: TqdmDeprecationWarning: This function will be removed in tqdm==5.0.0\n",
      "Please use `tqdm.notebook.tqdm` instead of `tqdm.tqdm_notebook`\n",
      "  \"\"\"Entry point for launching an IPython kernel.\n"
     ]
    },
    {
     "data": {
      "application/vnd.jupyter.widget-view+json": {
       "model_id": "9847edd4c879431d8bc56961b9f381c6",
       "version_major": 2,
       "version_minor": 0
      },
      "text/plain": [
       "HBox(children=(FloatProgress(value=0.0, max=13084637.0), HTML(value='')))"
      ]
     },
     "metadata": {},
     "output_type": "display_data"
    },
    {
     "name": "stdout",
     "output_type": "stream",
     "text": [
      "076f8c265a856303ac6ae57539140e88a3cbce2a2197b872ba6894132ccf92fb 0scar00\n",
      "7987d2f5f930524a31e0716314c2710c89ae849b4e51a563be67c82344bcc8da Dalbc00s\n",
      "326e90c0d2e7073d578976d120a4071f83ce6b7bc89c16ecb215d99b3d51a29b delmar00\n",
      "2e41f7133fd134335f566736c03cc02621a03a4d21954c3bec6a1f2807e87b8a alban1an123\n",
      "b1ea522fd21e8fe242136488428b8604b83acea430d6fcd36159973f48b1102e captpimp\n",
      "269398301262810bdf542150a2c1b81ffe0e1282856058a0e26bda91512cfdc4 6033503\n",
      "55c5a78379afce32da9d633ffe6a7a58fa06f9bbe66ba82af61838be400d624e 1M0nj1tas\n",
      "4fbee71939b9a46db36a3b0feb3d04668692fa020d30909c12b6e00c2d902c31 802561\n",
      "\n"
     ]
    }
   ],
   "source": [
    "for p in tqdm(passwords_2):\n",
    "    for t in all_ts(p):\n",
    "        p2 = transform(p, *t)\n",
    "        h = H(p2)\n",
    "        if h in sha2 and not h in found2:\n",
    "            found2[h] = p2\n",
    "            print(h, p2)\n",
    "            if len(found2) == len(sha2):\n",
    "                break\n",
    "    else:\n",
    "        continue  # only executed if the inner loop did NOT break\n",
    "    break"
   ]
  },
  {
   "cell_type": "markdown",
   "metadata": {},
   "source": [
    "# Part 3"
   ]
  },
  {
   "cell_type": "code",
   "execution_count": 52,
   "metadata": {},
   "outputs": [],
   "source": [
    "salt_and_sha3 = \"\"\"b9, 962642e330bd50792f647c1bf71895c5990be4ebf6b3ca60332befd732aed56c\n",
    "be, 8eef79d547f7a6d6a79329be3c7035f8e377f9e629cd9756936ec233969a45a3\n",
    "bc, e71067887d50ce854545afdd75d10fa80b841b98bb13272cf4be7ef0619c7dab\n",
    "72, 889a22781ef9b72b7689d9982bb3e22d31b6d7cc04db7571178a4496dc5ee128\n",
    "9f, 6a16f9c6d9542a55c1560c65f25540672db6b6e121a6ba91ee5745dabdc4f208\n",
    "17, 2317603823a03507c8d7b2970229ee267d22192b8bb8760bb5fcef2cf4c09edf\n",
    "94, c6c51f8a7319a7d0985babe1b6e4f5c329403d082e05e83d7b9d0bf55876ecdc\n",
    "7f, c01304fc36655dd37b5aa8ca96d34382ed9248b87650fffcd6ec70c9342bf451\n",
    "2e, cff39d9be689f0fc7725a43c3bdc7f5be012c840b9db9b547e6e3c454a076fc8\n",
    "24, 662ab7be194cee762494c6d725f29ef6321519035bfb15817e84342829728891\"\"\".split('\\n')\n",
    "\n",
    "salt = [s.split(',')[0].strip() for s in salt_and_sha3]\n",
    "sha3 = [s.split(',')[1].strip() for s in salt_and_sha3]\n",
    "\n",
    "found3 = dict()"
   ]
  },
  {
   "cell_type": "code",
   "execution_count": 55,
   "metadata": {},
   "outputs": [],
   "source": [
    "passwords_3 = []\n",
    "for fname in filenames:\n",
    "    with open('passwords/'+fname, 'r',encoding='cp850') as f:\n",
    "        for line in f:\n",
    "            line = line.replace('\\n', '')\n",
    "            if type(line) is str and \\\n",
    "                len(line) > 0:\n",
    "                passwords_3.append(line)"
   ]
  },
  {
   "cell_type": "code",
   "execution_count": 56,
   "metadata": {},
   "outputs": [
    {
     "name": "stderr",
     "output_type": "stream",
     "text": [
      "D:\\anaconda\\lib\\site-packages\\ipykernel_launcher.py:1: TqdmDeprecationWarning: This function will be removed in tqdm==5.0.0\n",
      "Please use `tqdm.notebook.tqdm` instead of `tqdm.tqdm_notebook`\n",
      "  \"\"\"Entry point for launching an IPython kernel.\n"
     ]
    },
    {
     "data": {
      "application/vnd.jupyter.widget-view+json": {
       "model_id": "9c417da4c41045ea9e799f2dc00ad772",
       "version_major": 2,
       "version_minor": 0
      },
      "text/plain": [
       "HBox(children=(FloatProgress(value=0.0, max=10.0), HTML(value='')))"
      ]
     },
     "metadata": {},
     "output_type": "display_data"
    },
    {
     "name": "stdout",
     "output_type": "stream",
     "text": [
      "889a22781ef9b72b7689d9982bb3e22d31b6d7cc04db7571178a4496dc5ee128 atychi1\n",
      "c6c51f8a7319a7d0985babe1b6e4f5c329403d082e05e83d7b9d0bf55876ecdc kaylahh1\n",
      "2317603823a03507c8d7b2970229ee267d22192b8bb8760bb5fcef2cf4c09edf kapono\n",
      "e71067887d50ce854545afdd75d10fa80b841b98bb13272cf4be7ef0619c7dab jasnic1\n",
      "962642e330bd50792f647c1bf71895c5990be4ebf6b3ca60332befd732aed56c albanian123\n",
      "8eef79d547f7a6d6a79329be3c7035f8e377f9e629cd9756936ec233969a45a3 thesims9\n",
      "662ab7be194cee762494c6d725f29ef6321519035bfb15817e84342829728891 born03101991#\n",
      "6a16f9c6d9542a55c1560c65f25540672db6b6e121a6ba91ee5745dabdc4f208 solkingfran\n",
      "cff39d9be689f0fc7725a43c3bdc7f5be012c840b9db9b547e6e3c454a076fc8 steele99\n",
      "c01304fc36655dd37b5aa8ca96d34382ed9248b87650fffcd6ec70c9342bf451 kennethix\n",
      "\n"
     ]
    }
   ],
   "source": [
    "for s in tqdm(set(salt)):\n",
    "    num_pwd = salt.count(s)\n",
    "    num_fnd = [s for s, h in zip(salt, sha3) if h in found3].count(s)\n",
    "    if num_fnd == num_pwd:\n",
    "        continue\n",
    "    for p in passwords_3:\n",
    "        h = H(p+s)\n",
    "        if h in sha3 and not h in found3:\n",
    "            found3[h] = p\n",
    "            print(h, p)\n",
    "            num_fnd += 1\n",
    "            if num_fnd == num_pwd:\n",
    "                break\n",
    "    else:\n",
    "        print(f'NO PWD FOUND FOR {s}')\n",
    "        continue  # only executed if the inner loop did NOT break\n",
    "    if len(found3) == len(sha3):\n",
    "        break"
   ]
  },
  {
   "cell_type": "code",
   "execution_count": null,
   "metadata": {},
   "outputs": [],
   "source": []
  }
 ],
 "metadata": {
  "kernelspec": {
   "display_name": "Python 3",
   "language": "python",
   "name": "python3"
  },
  "language_info": {
   "codemirror_mode": {
    "name": "ipython",
    "version": 3
   },
   "file_extension": ".py",
   "mimetype": "text/x-python",
   "name": "python",
   "nbconvert_exporter": "python",
   "pygments_lexer": "ipython3",
   "version": "3.7.9"
  }
 },
 "nbformat": 4,
 "nbformat_minor": 4
}
